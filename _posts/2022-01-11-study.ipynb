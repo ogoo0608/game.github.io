{
 "cells": [
  {
   "cell_type": "markdown",
   "metadata": {},
   "source": [
    "# 자습 !\n",
    "\n",
    "## Formating !!\n",
    " \n",
    "string formatting - 문자열 포매팅이란?\n",
    "\n",
    "문자열 포매팅을 이용하면 출력을 더 쉽게 할 수 있다. !! "
   ]
  },
  {
   "cell_type": "code",
   "execution_count": 4,
   "metadata": {},
   "outputs": [
    {
     "name": "stdout",
     "output_type": "stream",
     "text": [
      "2022년 1월\n",
      "2022년 2월\n",
      "2022년 3월\n",
      "2022년 4월\n",
      "2022년 5월\n",
      "2022년 6월\n",
      "2022년 7월\n",
      "2022년 8월\n",
      "2022년 9월\n",
      "2022년 10월\n",
      "2022년 11월\n",
      "2022년 12월\n"
     ]
    }
   ],
   "source": [
    "month = 1\n",
    "while month <= 12 :\n",
    "    print(f\"2022년 {month}월\") # 중괄호 필수 ..\n",
    "    month += 1"
   ]
  },
  {
   "cell_type": "markdown",
   "metadata": {},
   "source": [
    "f-string 이란?\n",
    "\n",
    "f-string formating 은 파이썬 version 3.6 부터 사용할 수 있는 기능이다.\n",
    "\n",
    "f-string ==> **f와 {}만 알면 된다** !!"
   ]
  },
  {
   "cell_type": "code",
   "execution_count": 6,
   "metadata": {},
   "outputs": [
    {
     "name": "stdout",
     "output_type": "stream",
     "text": [
      "woowakgood은 36살 입니다.\n"
     ]
    }
   ],
   "source": [
    "a = 'woowakgood'\n",
    "b = 36\n",
    "result1 = f\"{a}은 {b}살 입니다.\"\n",
    "print(result1)"
   ]
  },
  {
   "cell_type": "markdown",
   "metadata": {},
   "source": [
    "문자열 포매팅을 쓰는 이유 ==> 문자열 중간 중간에 특정 변수의 값을 넣어주기 위해서 사용하는 것.. ^^"
   ]
  },
  {
   "cell_type": "markdown",
   "metadata": {},
   "source": [
    "## for문 !!\n",
    "\n",
    "while문과 비슷한 반복문인 for문..\n",
    "\n",
    "### for문의 기본 구조 \n",
    "\n",
    "```py\n",
    "for 변수 in 리스트 (또는 튜플, 문자열):\n",
    "    수행할 문장 1\n",
    "    수행할 문장 2\n",
    "    ...\n",
    "```"
   ]
  },
  {
   "cell_type": "markdown",
   "metadata": {},
   "source": [
    "리스트를 통해서 이해해보자.\n",
    "\n",
    "```py\n",
    ">>> test_list = [\"아\", \"배고프다\", \"ㅇㅈ?\"]\n",
    ">>> for i in test_list:\n",
    "print(i)\n",
    "\n",
    "[실행 결과]\n",
    "아\n",
    "배고프다\n",
    "ㅇㅈ?\n",
    "```"
   ]
  },
  {
   "cell_type": "markdown",
   "metadata": {},
   "source": [
    "\"총 5명의 학생이 시험을 보았는데 시험 점수가 60점이 넘으면 합격이고 그렇지 않으면 불합격이다. 합격인지 불합격인지 결과를 보여 주시오.\""
   ]
  },
  {
   "cell_type": "code",
   "execution_count": 7,
   "metadata": {},
   "outputs": [
    {
     "name": "stdout",
     "output_type": "stream",
     "text": [
      "응 합격이야\n",
      "응 불합격이야\n",
      "응 합격이야\n",
      "응 불합격이야\n",
      "응 합격이야\n"
     ]
    }
   ],
   "source": [
    "students = [90, 24, 87, 40, 61]\n",
    "\n",
    "number = 0\n",
    "\n",
    "for i in students:\n",
    "    number += 1\n",
    "    if i >= 60:\n",
    "        print(\"응 합격이야\")\n",
    "        \n",
    "    else:\n",
    "        print(\"응 불합격이야\")"
   ]
  },
  {
   "cell_type": "markdown",
   "metadata": {},
   "source": [
    "for문과 함께 자주 사용되는 range 함수 ..\n",
    "\n"
   ]
  }
 ],
 "metadata": {
  "interpreter": {
   "hash": "c4b3c3e98a20b3c6a423053c9f6cd0fafb29c4bcae530d4e51dfcfc7e95de538"
  },
  "kernelspec": {
   "display_name": "Python 3.9.9 64-bit (windows store)",
   "language": "python",
   "name": "python3"
  },
  "language_info": {
   "codemirror_mode": {
    "name": "ipython",
    "version": 3
   },
   "file_extension": ".py",
   "mimetype": "text/x-python",
   "name": "python",
   "nbconvert_exporter": "python",
   "pygments_lexer": "ipython3",
   "version": "3.9.9"
  },
  "orig_nbformat": 4
 },
 "nbformat": 4,
 "nbformat_minor": 2
}
